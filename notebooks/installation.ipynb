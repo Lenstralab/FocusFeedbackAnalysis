{
 "cells": [
  {
   "cell_type": "markdown",
   "id": "c8e1fcd9",
   "metadata": {},
   "source": [
    "# Jupyter\n",
    "If you can open this, we assume you have Python and Jupyter Notebook or Jupyterlab installed. If this is not the case, download and install Python (version 3.10 or newer) from https://www.python.org. Then follow instructions for jupyter here: https://jupyter.org/install. Finally, open this file in Jupyter."
   ]
  },
  {
   "cell_type": "markdown",
   "id": "560bc53f",
   "metadata": {},
   "source": [
    "# Download and install FocusFeedbackGUI\n",
    "#### This is not for live feedback, but some parts of FocusFeedbackGUI are needed for the analysis too\n",
    "\n",
    "From the newest release, download the wheel appropriate for your pc: https://github.com/Lenstralab/FocusFeedbackGUI/releases, e.g. https://github.com/Lenstralab/FocusFeedbackGUI/releases/download/2025.2.1/focusfeedbackgui-2025.2.1-cp38-abi3-win_amd64.whl for 64bit Windows.\n",
    "Store it next to this notebook."
   ]
  },
  {
   "cell_type": "code",
   "execution_count": null,
   "id": "1e2c053c",
   "metadata": {},
   "outputs": [],
   "source": [
    "# Install the wheel that was just downloaded\n",
    "%pip install focusfeedbackgui*.whl"
   ]
  },
  {
   "cell_type": "markdown",
   "id": "b826325d",
   "metadata": {},
   "source": [
    "# Download and install FocusFeedbackAnalysis"
   ]
  },
  {
   "cell_type": "code",
   "execution_count": null,
   "id": "e9c7e505",
   "metadata": {},
   "outputs": [],
   "source": [
    "%pip install git+https://github.com/Lenstralab/FocusFeedbackAnalysis.git"
   ]
  }
 ],
 "metadata": {
  "kernelspec": {
   "display_name": "Python 3.12",
   "language": "python",
   "name": "python3.12"
  },
  "language_info": {
   "codemirror_mode": {
    "name": "ipython",
    "version": 3
   },
   "file_extension": ".py",
   "mimetype": "text/x-python",
   "name": "python",
   "nbconvert_exporter": "python",
   "pygments_lexer": "ipython3",
   "version": "3.12.8"
  }
 },
 "nbformat": 4,
 "nbformat_minor": 5
}
